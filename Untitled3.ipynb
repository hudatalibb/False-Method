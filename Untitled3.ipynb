{
  "nbformat": 4,
  "nbformat_minor": 0,
  "metadata": {
    "colab": {
      "provenance": [],
      "authorship_tag": "ABX9TyNj7oSBF4J8cQa2LAN4f2Ol",
      "include_colab_link": true
    },
    "kernelspec": {
      "name": "python3",
      "display_name": "Python 3"
    },
    "language_info": {
      "name": "python"
    }
  },
  "cells": [
    {
      "cell_type": "markdown",
      "metadata": {
        "id": "view-in-github",
        "colab_type": "text"
      },
      "source": [
        "<a href=\"https://colab.research.google.com/github/hudatalibb/False-Method/blob/main/Untitled3.ipynb\" target=\"_parent\"><img src=\"https://colab.research.google.com/assets/colab-badge.svg\" alt=\"Open In Colab\"/></a>"
      ]
    },
    {
      "cell_type": "code",
      "execution_count": null,
      "metadata": {
        "id": "yoJXAYSMNn1T"
      },
      "outputs": [],
      "source": [
        "# nasandny hawkeshaka\n",
        "def f(x):\n",
        "    return x**2 - 2*x - 4\n",
        "\n",
        "# bakar henany yasay false method\n",
        "def falsePosition(x0,x1,e):\n",
        "    step = 1\n",
        "    print('\\n\\n*** FALSE POSITION METHOD IMPLEMENTATION *')\n",
        "    condition = True\n",
        "    while condition:\n",
        "        x2 = x0 - (x1-x0) * f(x0)/( f(x1) - f(x0) )\n",
        "        print('Iteration-%d, x2 = %0.6f and f(x2) = %0.6f' % (step, x2, f(x2)))\n",
        "\n",
        "        if f(x0) * f(x2) < 0:\n",
        "            x1 = x2\n",
        "        else:\n",
        "            x0 = x2\n",
        "\n",
        "        step = step + 1\n",
        "        condition = abs(f(x2)) > e\n",
        "\n",
        "    print('\\nRequired root is: %0.8f' % x2)\n",
        "\n",
        "\n",
        "# # Input Section\n",
        "# x0 = input('First Guess: ')\n",
        "# x1 = input('Second Guess: ')\n",
        "# e = input('Tolerable Error: ')\n",
        "\n",
        "# # Converting input to float\n",
        "# x0 = float(x0)\n",
        "# x1 = float(x1)\n",
        "# e = float(e)\n",
        "\n",
        "#Note: You can combine above two section like this\n",
        "x0 = float(input('First Guess: '))\n",
        "x1 = float(input('Second Guess: '))\n",
        "e = float(input('Tolerable Error: '))\n",
        "\n",
        "\n",
        "# Checking Correctness of initial guess values and false positioning\n",
        "if f(x0) * f(x1) > 0.0:\n",
        "    print('Given guess values do not bracket the root.')\n",
        "    print('Try Again with different guess values.')\n",
        "else:\n",
        "    falsePosition(x0,x1,e)"
      ]
    }
  ]
}